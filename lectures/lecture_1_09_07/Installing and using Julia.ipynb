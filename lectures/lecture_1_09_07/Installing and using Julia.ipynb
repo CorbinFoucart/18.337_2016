{
 "cells": [
  {
   "cell_type": "markdown",
   "metadata": {},
   "source": [
    "## JuliaBox"
   ]
  },
  {
   "cell_type": "markdown",
   "metadata": {},
   "source": [
    "The simplest way to get started with Julia is using [JuliaBox](http://juliabox.com/). Here you can interact with a [Jupyter notebook](http://jupyter.org/) hosted remotely."
   ]
  },
  {
   "cell_type": "markdown",
   "metadata": {},
   "source": [
    "## Install Julia"
   ]
  },
  {
   "cell_type": "markdown",
   "metadata": {},
   "source": [
    "Soon, however, you will probably want to install Julia locally on your  own machine.\n",
    "\n",
    "To do so, download it for your operating system from [here](http://julialang.org/downloads/) and install it. This will give you a \"REPL\" (Read--Eval--Print Loop), i.e. a command line version of Julia."
   ]
  },
  {
   "cell_type": "markdown",
   "metadata": {},
   "source": [
    "## Install the Jupyter notebook"
   ]
  },
  {
   "cell_type": "markdown",
   "metadata": {},
   "source": [
    "The Jupyter notebook that we used in class (and that you are currently reading) is an interactive web application, used through a web browser.\n",
    "\n",
    "It may be used remotely, as in JuliaBox, or locally, on your own computer, which is more advisable.\n",
    "\n",
    "To install the Jupyter notebook locally, open Julia on your machine and type\n",
    "\n",
    "    Pkg.add(\"IJulia\")\n",
    "\n",
    "to install it. If you already have the Jupyter notebook installed on your computer, this will use the same installation. Otherwise, it will install the relevant Jupyter packages (and, in fact, Python, which Jupyter is based on) in a place that only Julia will see.\n",
    "\n",
    "\n",
    "Then each time you wish to use it, start Julia and type\n",
    "\n",
    "    using IJulia\n",
    "    notebook()\n",
    "    \n",
    "You may make an alias for these last two operations in `bash` (the terminal), e.g. put the following in `.bashrc` (Linux) or `.bash_profile` (Mac) in your home directory:\n",
    "\n",
    "    alias notebook=\"julia -e 'using IJulia; notebook(dir=pwd())'\""
   ]
  },
  {
   "cell_type": "markdown",
   "metadata": {},
   "source": [
    "## Using the notebook"
   ]
  },
  {
   "cell_type": "markdown",
   "metadata": {},
   "source": [
    "There are two main types of cell in the Jupyter notebook: code cells, and Markdown cells where you may enter rich text using the Markdown mark-up language, for example `*hello*` for italics.\n",
    "\n",
    "Cells in the notebook are executed with `Shift-Enter`.\n",
    "\n",
    "There are various shortcuts, e.g. `Ctrl-m b` to add a cell below the current cell; see the `Keyboard Shortcuts` menu item under `Help`."
   ]
  },
  {
   "cell_type": "markdown",
   "metadata": {},
   "source": [
    "## The Juno Integrated Development Environment"
   ]
  },
  {
   "cell_type": "markdown",
   "metadata": {},
   "source": [
    "A good editor for Julia is [Juno](http://junolab.org/), which is built on top of the widely-used [Atom editor](https://atom.io/). \n",
    "\n",
    "Juno has the advantage that not only is it an editor, but you can execute commands and blocks within the editor itself using `Shift-Enter`, and see results inline."
   ]
  }
 ],
 "metadata": {
  "kernelspec": {
   "display_name": "Julia 0.5.0-rc3",
   "language": "julia",
   "name": "julia-0.5"
  },
  "language_info": {
   "file_extension": ".jl",
   "mimetype": "application/julia",
   "name": "julia",
   "version": "0.5.0"
  }
 },
 "nbformat": 4,
 "nbformat_minor": 1
}
