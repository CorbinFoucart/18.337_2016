{
 "cells": [
  {
   "cell_type": "markdown",
   "metadata": {},
   "source": [
    "# Introduction"
   ]
  },
  {
   "cell_type": "markdown",
   "metadata": {},
   "source": [
    "What are people's backgrounds?\n",
    "\n",
    "All previous courses are online. \n",
    "If you're worried if you have the right background, you probably do, if you're here.\n",
    "        \n",
    "More appropriate title: Modern numerical computing in Julia\n",
    "\n",
    "There will be parallel computing.\n",
    "But it's really about what does it take to make computers go fast and easy.\n"
   ]
  },
  {
   "cell_type": "markdown",
   "metadata": {},
   "source": [
    "Midterm project: Delve into a talk from JuliaCon.\n",
    "\n",
    "Final project: You can see what people have done in the past.\n",
    "If you're already doing something and you'd like to do it in Julia, it's fine.\n",
    "Can be individual or in teams.\n",
    "\n",
    "There probably won't be a TA."
   ]
  },
  {
   "cell_type": "markdown",
   "metadata": {},
   "source": [
    "## What is Julia"
   ]
  },
  {
   "cell_type": "markdown",
   "metadata": {},
   "source": [
    "Alan's background: Was a big Matlab user; stopped using Matlab 2 years ago, and almost hasn't touched it. Was the first student in the world to use the first commercial license of MATLAB (bought by his advisor).\n",
    "\n",
    "Learnt lots of parallel programming on the Connection Machine a long time ago.\n",
    "\n",
    "\"Parallel computing is too hard\" -- but nobody really does anything about it. \n",
    "\n",
    "The problem is that serial computing languages have never been good at doing parallel computing.\n",
    "\n",
    "They realised that to get a good parallel computing language, need a good serial language -- Julia emerged from that effort.\n",
    "\n",
    "The truth is that we're still working on it -- we don't really know how to do it right yet.\n",
    "There are things out there and you can look at what people have done."
   ]
  },
  {
   "cell_type": "markdown",
   "metadata": {},
   "source": [
    "Why is Julia fast notebook"
   ]
  },
  {
   "cell_type": "markdown",
   "metadata": {},
   "source": [
    "Julia is not so different from Python, Matlab, R -- can type mathematical / numerical routines and things happen."
   ]
  },
  {
   "cell_type": "markdown",
   "metadata": {},
   "source": [
    "Currently, 0.4 is the stable version; 0.5 is the soon-to-be-released version"
   ]
  },
  {
   "cell_type": "markdown",
   "metadata": {},
   "source": [
    "For teaching purposes, the Jupyter notebook is a nice environment."
   ]
  },
  {
   "cell_type": "markdown",
   "metadata": {},
   "source": [
    "## Why Julia?"
   ]
  },
  {
   "cell_type": "markdown",
   "metadata": {},
   "source": [
    "What's the difference between Julia and Python etc.?\n",
    "\n",
    "Like Python, Matlab etc., it's a dynamic language where you can just go ahead and define a function and use it. But the other languages are just basically small scripting languages on top of C or C++.\n",
    "\n",
    "But Julia is basically Julia all the way down.\n",
    "\n",
    "You can create abstractions, e.g. write a function to invert a matrix.\n",
    "In the old days, write one code for single precision, one for double precision, one for complex single precision, etc. But what about arbitrary precision, unums, quaternions, finite fields etc?\n",
    "\n",
    "The cool thing about Julia is that you can write this once and for all, independent of the type, and it just works.\n",
    "\n",
    "Somebody usually writes something because of their immediate need. Then they have to bend it for some other purpose. Better than Python because it gets compiled!"
   ]
  },
  {
   "cell_type": "markdown",
   "metadata": {},
   "source": [
    "Julia can be very fast -- can be much faster than these other languages.\n",
    "Strive to be as fast as C++, but much more *flexible*"
   ]
  },
  {
   "cell_type": "markdown",
   "metadata": {},
   "source": [
    "\"Compiled is fast, not compiled is slow\""
   ]
  },
  {
   "cell_type": "markdown",
   "metadata": {},
   "source": [
    "Julia is fast because the people who work on Julia really care that it should be fast. Compare to Python and R, where people cared more about the humans.\n",
    "\n",
    "Julia is a compromise between optimising for humans and optimising for machines.\n",
    "Very different balance from what has happened in previous languages."
   ]
  },
  {
   "cell_type": "markdown",
   "metadata": {},
   "source": [
    "At the hardware level, unnecessary memory allocations and accesses bog you down. "
   ]
  },
  {
   "cell_type": "markdown",
   "metadata": {},
   "source": [
    "Something that has been missed for many years: besides the high-level mathematical structure, computer languages themselves have structure; if take advantage of it, can be faster."
   ]
  },
  {
   "cell_type": "code",
   "execution_count": 2,
   "metadata": {
    "collapsed": false
   },
   "outputs": [
    {
     "name": "stderr",
     "output_type": "stream",
     "text": [
      "WARNING: Method definition f(Any) in module Main at In[1]:1 overwritten at In[2]:1.\n"
     ]
    },
    {
     "data": {
      "text/plain": [
       "4×4 Array{Float64,2}:\n",
       " 5.82293  5.7945   5.129    5.67768\n",
       " 5.43259  5.55646  5.68751  5.04721\n",
       " 5.5781   5.68704  5.55389  5.85718\n",
       " 5.78834  5.92631  5.26206  5.4414 "
      ]
     },
     "execution_count": 2,
     "metadata": {},
     "output_type": "execute_result"
    }
   ],
   "source": [
    "f(x) = x + 5\n",
    "f(1)\n",
    "f(1//2)\n",
    "A = f(rand(4, 4))"
   ]
  },
  {
   "cell_type": "markdown",
   "metadata": {},
   "source": [
    "A matrix might have elements of different *types*: reals, complexes, matrices of matrices, etc."
   ]
  },
  {
   "cell_type": "code",
   "execution_count": 7,
   "metadata": {
    "collapsed": false
   },
   "outputs": [
    {
     "data": {
      "text/plain": [
       "1×2 Array{Any,2}:\n",
       " 3//4  \"hello\""
      ]
     },
     "execution_count": 7,
     "metadata": {},
     "output_type": "execute_result"
    }
   ],
   "source": [
    "c = [3//4 \"hello\"]"
   ]
  },
  {
   "cell_type": "code",
   "execution_count": 5,
   "metadata": {
    "collapsed": false
   },
   "outputs": [
    {
     "data": {
      "text/plain": [
       "2×2 Array{Any,2}:\n",
       "   \"hello world\"   5  \n",
       " 3//4             1//1"
      ]
     },
     "execution_count": 5,
     "metadata": {},
     "output_type": "execute_result"
    }
   ],
   "source": [
    "B = [\"hello world\" 5; 3//4 1]"
   ]
  },
  {
   "cell_type": "markdown",
   "metadata": {},
   "source": [
    "Don't do this, since Julia will waste its time working out what the type of everything is all the time (as Python does)"
   ]
  },
  {
   "cell_type": "code",
   "execution_count": 8,
   "metadata": {
    "collapsed": false
   },
   "outputs": [
    {
     "name": "stderr",
     "output_type": "stream",
     "text": [
      "WARNING: Method definition f(Any) in module Main at In[2]:1 overwritten at In[8]:1.\n"
     ]
    },
    {
     "data": {
      "text/plain": [
       "f (generic function with 1 method)"
      ]
     },
     "execution_count": 8,
     "metadata": {},
     "output_type": "execute_result"
    }
   ],
   "source": [
    "f(x) = x + 5"
   ]
  },
  {
   "cell_type": "code",
   "execution_count": 9,
   "metadata": {
    "collapsed": false
   },
   "outputs": [
    {
     "data": {
      "text/plain": [
       "1"
      ]
     },
     "execution_count": 9,
     "metadata": {},
     "output_type": "execute_result"
    }
   ],
   "source": [
    "x = 1"
   ]
  },
  {
   "cell_type": "code",
   "execution_count": 12,
   "metadata": {
    "collapsed": false
   },
   "outputs": [
    {
     "name": "stdout",
     "output_type": "stream",
     "text": [
      "\t.section\t__TEXT,__text,regular,pure_instructions\n",
      "Filename: In[8]\n",
      "\tpushq\t%rbp\n",
      "\tmovq\t%rsp, %rbp\n",
      "Source line: 1\n",
      "\tleaq\t5(%rdi), %rax\n",
      "\tpopq\t%rbp\n",
      "\tretq\n",
      "\tnopw\t(%rax,%rax)\n"
     ]
    }
   ],
   "source": [
    "@code_native f(10)"
   ]
  },
  {
   "cell_type": "markdown",
   "metadata": {},
   "source": [
    "When executing, Julia somehow knows the type and has **specialized code** for that type."
   ]
  },
  {
   "cell_type": "markdown",
   "metadata": {},
   "source": [
    "Python spends a lot of time just trying to figure out \"am I a rational or a string or a matrix\". \"It ought to know already\" -- except the Python language is not \"set up\" to know at the right moment."
   ]
  },
  {
   "cell_type": "code",
   "execution_count": null,
   "metadata": {
    "collapsed": true
   },
   "outputs": [],
   "source": []
  }
 ],
 "metadata": {
  "kernelspec": {
   "display_name": "Julia 0.5.0-rc3",
   "language": "julia",
   "name": "julia-0.5"
  },
  "language_info": {
   "file_extension": ".jl",
   "mimetype": "application/julia",
   "name": "julia",
   "version": "0.5.0"
  }
 },
 "nbformat": 4,
 "nbformat_minor": 1
}
